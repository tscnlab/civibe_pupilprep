{
 "cells": [
  {
   "cell_type": "markdown",
   "metadata": {},
   "source": [
    "**Table of contents**<a id='toc0_'></a>    \n",
    "- [Statistics of block completeness after only percentage based trial rejection](#toc1_)    \n",
    "    - [Number of blocks accepted per participant](#toc1_1_1_)    \n",
    "- [Block completeness after percentage and long nan trial removal](#toc2_)    \n",
    "    - [Number of blocks accepted per participant](#toc2_1_1_)    \n",
    "\n",
    "<!-- vscode-jupyter-toc-config\n",
    "\tnumbering=false\n",
    "\tanchor=true\n",
    "\tflat=false\n",
    "\tminLevel=1\n",
    "\tmaxLevel=6\n",
    "\t/vscode-jupyter-toc-config -->\n",
    "<!-- THIS CELL WILL BE REPLACED ON TOC UPDATE. DO NOT WRITE YOUR TEXT IN THIS CELL -->"
   ]
  },
  {
   "cell_type": "code",
   "execution_count": 58,
   "metadata": {},
   "outputs": [],
   "source": [
    "import sys\n",
    "\n",
    "sys.path.insert(\n",
    "    1, \"..\\\\utilities\\\\\"\n",
    ")  # adds utilities folder to path so we can import modules from it, won't be needed after packaging\n",
    "\n",
    "import pandas as pd\n",
    "import numpy as np\n",
    "import seaborn as sns\n",
    "import matplotlib.pyplot as plt\n",
    "import os\n",
    "import loading_utils as load\n",
    "import preprocessing_utils as prep\n",
    "\n",
    "participant_list = [200, 201, 202, 204, 205, 206, 207, 209, 210, 211, 212, 213]"
   ]
  },
  {
   "cell_type": "code",
   "execution_count": 1,
   "metadata": {},
   "outputs": [],
   "source": [
    "data_dir = \"./results/resampled/\"  # directory with resampled data\n",
    "data_suffix = \"_nonan_30_resampled_data.csv\"  # name of file with 30 Hz resampled data from participant 2xx, name format: 2xxdata_suffix"
   ]
  },
  {
   "cell_type": "code",
   "execution_count": null,
   "metadata": {},
   "outputs": [],
   "source": [
    "# This is a block for making participant dataframes from raw files in directory data_dir (here Windows path to retinawise mirror folder on drive)\n",
    "# It saves the participant dfs into directory defined in save_path (about 300 - 400 MB per participant), format 2xx_recording_data.csv\n",
    "# Uncomment and run if you don't have these dataframes (remember that the folder specified in save_path must exist)\n",
    "# data_dir = \"D:/retinawise_mirror/raw/\"\n",
    "# save_path = './results/'\n",
    "# for participant_id in participant_list:\n",
    "#     data_df, protocol_timecourse_df, protocol_vars_df = load.load_participant_data(participant_no=participant_id,\n",
    "#                                                                                    data_dir=data_dir,\n",
    "#                                                                                    include_failed=False,\n",
    "#                                                                                    save=True,\n",
    "#                                                                                    save_path=save_path)"
   ]
  },
  {
   "cell_type": "code",
   "execution_count": null,
   "metadata": {},
   "outputs": [],
   "source": [
    "# This is a block for resampling participant dataframes to 30 Hz and extracting only trials -1:18 s\n",
    "# It loads the participant dfs from data_dir (e.g. the save_path from block above)\n",
    "# And saves into directory save_path with format 2xxdata_suffix\n",
    "# Uncomment and run if you don't have the resampled dataframes (remember the folder specified in save_path must exist)\n",
    "# data_dir = \"./results/\"\n",
    "# save_path = './results/resampled/'\n",
    "# data_suffix = \"_nonan_30_resampled_data.csv\"\n",
    "# for participant_id in participant_list:\n",
    "#     data_path = os.path.join(data_dir,str(participant_id)+'_recording_data.csv')\n",
    "#     data_df = pd.read_csv(data_path)\n",
    "#     resampled_df = prep.resample_by_trial(data_df,sample_freq=30)\n",
    "#     save_filepath = os.path.join(save_path,str(participant_id)+data_suffix)\n",
    "#     resampled_df.to_csv(save_filepath)\n",
    "#     data_df = []\n",
    "#     resampled_df = []"
   ]
  },
  {
   "cell_type": "code",
   "execution_count": null,
   "metadata": {},
   "outputs": [],
   "source": [
    "def rejection_pipeline(data_df,funcs):\n",
    "    new_df = data_df.copy(deep=True)\n",
    "    for func in funcs:\n",
    "        new_df = func(new_df)\n",
    "    return new_df"
   ]
  },
  {
   "cell_type": "markdown",
   "metadata": {},
   "source": [
    "# <a id='toc1_'></a>[Statistics of block completeness after only percentage based trial rejection](#toc0_)\n",
    "\n",
    "complete trial: 75% POI 1:6 s, 40% baseline -1:0 s\n",
    "\n",
    "complete condition in a block: min. 3 accepted trials\n",
    "\n",
    "complete block: has complete flux and complete other condition"
   ]
  },
  {
   "cell_type": "code",
   "execution_count": 4,
   "metadata": {},
   "outputs": [],
   "source": [
    "funcs = [prep.remove_trials_below_percentage,prep.remove_bad_conditions,prep.remove_bad_blocks]"
   ]
  },
  {
   "cell_type": "code",
   "execution_count": 61,
   "metadata": {},
   "outputs": [],
   "source": [
    "blocks = np.arange(0,11)\n",
    "conditions = ['flux','l-m','lms','mel','s']\n",
    "\n",
    "def make_completeness_stats_df(participant_list,blocks,conditions,funcs):\n",
    "    completeness_dict = {'Participant':[],'Block':[],'Condition':[],'Trial count':[],'Block available':[]}\n",
    "\n",
    "    for participant_id in participant_list:\n",
    "        data_path = os.path.join(data_dir, str(participant_id) + data_suffix)\n",
    "        data_df = pd.read_csv(data_path)\n",
    "\n",
    "        no_low_block_df = rejection_pipeline(data_df,funcs)\n",
    "        \n",
    "        groupby_df = (\n",
    "        no_low_block_df[[\"Block\", \"Trial type\", \"Trial no\"]]\n",
    "        .groupby([\"Block\", \"Trial type\"])\n",
    "        .agg(\"nunique\")\n",
    "    )\n",
    "        \n",
    "        groupby_df.reset_index(inplace=True)\n",
    "        \n",
    "        \n",
    "        for block in blocks:\n",
    "            for condition in conditions:\n",
    "                if block in groupby_df['Block'].values:\n",
    "                    block_acc = 'yes'\n",
    "                    if condition in groupby_df['Trial type'][groupby_df['Block']==block].values:\n",
    "                        count = groupby_df['Trial no'][(groupby_df['Block']==block)&(groupby_df['Trial type']==condition)].values[0]\n",
    "                    else:\n",
    "                        count = 'less than 3'\n",
    "                else:\n",
    "                    block_acc = 'no'\n",
    "                    count = 'less than 3'\n",
    "                completeness_dict['Participant'].append(participant_id)\n",
    "                completeness_dict['Block'].append(block)\n",
    "                completeness_dict['Condition'].append(condition)\n",
    "                completeness_dict['Trial count'].append(count)\n",
    "                completeness_dict['Block available'].append(block_acc)\n",
    "\n",
    "    completeness_df = pd.DataFrame(completeness_dict)\n",
    "    return completeness_df"
   ]
  },
  {
   "cell_type": "code",
   "execution_count": null,
   "metadata": {},
   "outputs": [],
   "source": [
    "percentage_removal_compl_df = make_completeness_stats_df(participant_list,blocks,conditions,funcs)"
   ]
  },
  {
   "cell_type": "code",
   "execution_count": null,
   "metadata": {},
   "outputs": [],
   "source": [
    "percentage_removal_compl_df.to_csv('block_completeness_percentage_only.csv')"
   ]
  },
  {
   "cell_type": "markdown",
   "metadata": {},
   "source": [
    "### <a id='toc1_1_1_'></a>[Number of blocks accepted per participant](#toc0_)"
   ]
  },
  {
   "cell_type": "code",
   "execution_count": 56,
   "metadata": {},
   "outputs": [
    {
     "data": {
      "text/html": [
       "<div>\n",
       "<style scoped>\n",
       "    .dataframe tbody tr th:only-of-type {\n",
       "        vertical-align: middle;\n",
       "    }\n",
       "\n",
       "    .dataframe tbody tr th {\n",
       "        vertical-align: top;\n",
       "    }\n",
       "\n",
       "    .dataframe thead th {\n",
       "        text-align: right;\n",
       "    }\n",
       "</style>\n",
       "<table border=\"1\" class=\"dataframe\">\n",
       "  <thead>\n",
       "    <tr style=\"text-align: right;\">\n",
       "      <th></th>\n",
       "      <th>Block</th>\n",
       "    </tr>\n",
       "    <tr>\n",
       "      <th>Participant</th>\n",
       "      <th></th>\n",
       "    </tr>\n",
       "  </thead>\n",
       "  <tbody>\n",
       "    <tr>\n",
       "      <th>200</th>\n",
       "      <td>11</td>\n",
       "    </tr>\n",
       "    <tr>\n",
       "      <th>201</th>\n",
       "      <td>11</td>\n",
       "    </tr>\n",
       "    <tr>\n",
       "      <th>202</th>\n",
       "      <td>11</td>\n",
       "    </tr>\n",
       "    <tr>\n",
       "      <th>204</th>\n",
       "      <td>11</td>\n",
       "    </tr>\n",
       "    <tr>\n",
       "      <th>205</th>\n",
       "      <td>7</td>\n",
       "    </tr>\n",
       "    <tr>\n",
       "      <th>206</th>\n",
       "      <td>10</td>\n",
       "    </tr>\n",
       "    <tr>\n",
       "      <th>207</th>\n",
       "      <td>8</td>\n",
       "    </tr>\n",
       "    <tr>\n",
       "      <th>209</th>\n",
       "      <td>4</td>\n",
       "    </tr>\n",
       "    <tr>\n",
       "      <th>210</th>\n",
       "      <td>6</td>\n",
       "    </tr>\n",
       "    <tr>\n",
       "      <th>211</th>\n",
       "      <td>11</td>\n",
       "    </tr>\n",
       "    <tr>\n",
       "      <th>212</th>\n",
       "      <td>11</td>\n",
       "    </tr>\n",
       "    <tr>\n",
       "      <th>213</th>\n",
       "      <td>11</td>\n",
       "    </tr>\n",
       "  </tbody>\n",
       "</table>\n",
       "</div>"
      ],
      "text/plain": [
       "             Block\n",
       "Participant       \n",
       "200             11\n",
       "201             11\n",
       "202             11\n",
       "204             11\n",
       "205              7\n",
       "206             10\n",
       "207              8\n",
       "209              4\n",
       "210              6\n",
       "211             11\n",
       "212             11\n",
       "213             11"
      ]
     },
     "execution_count": 56,
     "metadata": {},
     "output_type": "execute_result"
    }
   ],
   "source": [
    "percentage_removal_compl_df[['Participant','Block']][percentage_removal_compl_df['Block available'] == 'yes'].groupby(['Participant']).nunique()"
   ]
  },
  {
   "cell_type": "markdown",
   "metadata": {},
   "source": [
    "Groupby above shows how many blocks are accepted for each participant."
   ]
  },
  {
   "cell_type": "markdown",
   "metadata": {},
   "source": [
    "# <a id='toc2_'></a>[Block completeness after percentage and long nan trial removal](#toc0_)\n",
    "\n",
    "Conditions as above plus removal of trials with NaNs longer than 625 ms."
   ]
  },
  {
   "cell_type": "code",
   "execution_count": 59,
   "metadata": {},
   "outputs": [],
   "source": [
    "funcs = [prep.remove_trials_below_percentage,prep.remove_trials_with_long_nans,prep.remove_bad_conditions,prep.remove_bad_blocks]"
   ]
  },
  {
   "cell_type": "code",
   "execution_count": null,
   "metadata": {},
   "outputs": [],
   "source": [
    "percentage_nan_removal_compl_df = make_completeness_stats_df(participant_list,blocks,conditions,funcs)\n",
    "percentage_removal_compl_df.to_csv('block_completeness_percentage_nans.csv')"
   ]
  },
  {
   "cell_type": "markdown",
   "metadata": {},
   "source": [
    "### <a id='toc2_1_1_'></a>[Number of blocks accepted per participant](#toc0_)"
   ]
  },
  {
   "cell_type": "code",
   "execution_count": 63,
   "metadata": {},
   "outputs": [
    {
     "data": {
      "text/html": [
       "<div>\n",
       "<style scoped>\n",
       "    .dataframe tbody tr th:only-of-type {\n",
       "        vertical-align: middle;\n",
       "    }\n",
       "\n",
       "    .dataframe tbody tr th {\n",
       "        vertical-align: top;\n",
       "    }\n",
       "\n",
       "    .dataframe thead th {\n",
       "        text-align: right;\n",
       "    }\n",
       "</style>\n",
       "<table border=\"1\" class=\"dataframe\">\n",
       "  <thead>\n",
       "    <tr style=\"text-align: right;\">\n",
       "      <th></th>\n",
       "      <th>Block</th>\n",
       "    </tr>\n",
       "    <tr>\n",
       "      <th>Participant</th>\n",
       "      <th></th>\n",
       "    </tr>\n",
       "  </thead>\n",
       "  <tbody>\n",
       "    <tr>\n",
       "      <th>200</th>\n",
       "      <td>11</td>\n",
       "    </tr>\n",
       "    <tr>\n",
       "      <th>201</th>\n",
       "      <td>11</td>\n",
       "    </tr>\n",
       "    <tr>\n",
       "      <th>202</th>\n",
       "      <td>11</td>\n",
       "    </tr>\n",
       "    <tr>\n",
       "      <th>204</th>\n",
       "      <td>10</td>\n",
       "    </tr>\n",
       "    <tr>\n",
       "      <th>205</th>\n",
       "      <td>6</td>\n",
       "    </tr>\n",
       "    <tr>\n",
       "      <th>206</th>\n",
       "      <td>10</td>\n",
       "    </tr>\n",
       "    <tr>\n",
       "      <th>207</th>\n",
       "      <td>7</td>\n",
       "    </tr>\n",
       "    <tr>\n",
       "      <th>209</th>\n",
       "      <td>3</td>\n",
       "    </tr>\n",
       "    <tr>\n",
       "      <th>210</th>\n",
       "      <td>3</td>\n",
       "    </tr>\n",
       "    <tr>\n",
       "      <th>211</th>\n",
       "      <td>11</td>\n",
       "    </tr>\n",
       "    <tr>\n",
       "      <th>212</th>\n",
       "      <td>11</td>\n",
       "    </tr>\n",
       "    <tr>\n",
       "      <th>213</th>\n",
       "      <td>10</td>\n",
       "    </tr>\n",
       "  </tbody>\n",
       "</table>\n",
       "</div>"
      ],
      "text/plain": [
       "             Block\n",
       "Participant       \n",
       "200             11\n",
       "201             11\n",
       "202             11\n",
       "204             10\n",
       "205              6\n",
       "206             10\n",
       "207              7\n",
       "209              3\n",
       "210              3\n",
       "211             11\n",
       "212             11\n",
       "213             10"
      ]
     },
     "execution_count": 63,
     "metadata": {},
     "output_type": "execute_result"
    }
   ],
   "source": [
    "percentage_nan_removal_compl_df[['Participant','Block']][percentage_nan_removal_compl_df['Block available'] == 'yes'].groupby(['Participant']).nunique()"
   ]
  },
  {
   "cell_type": "code",
   "execution_count": null,
   "metadata": {},
   "outputs": [],
   "source": []
  }
 ],
 "metadata": {
  "kernelspec": {
   "display_name": ".venv",
   "language": "python",
   "name": "python3"
  },
  "language_info": {
   "codemirror_mode": {
    "name": "ipython",
    "version": 3
   },
   "file_extension": ".py",
   "mimetype": "text/x-python",
   "name": "python",
   "nbconvert_exporter": "python",
   "pygments_lexer": "ipython3",
   "version": "3.8.1"
  }
 },
 "nbformat": 4,
 "nbformat_minor": 2
}
