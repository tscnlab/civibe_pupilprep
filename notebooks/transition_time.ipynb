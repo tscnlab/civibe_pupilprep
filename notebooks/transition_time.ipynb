{
 "cells": [
  {
   "cell_type": "code",
   "execution_count": 1,
   "metadata": {},
   "outputs": [],
   "source": [
    "import sys\n",
    "sys.path.insert(1, '..\\\\utilities\\\\') #adds utilities folder to path so we can import modules from it, won't be needed after packaging"
   ]
  },
  {
   "cell_type": "code",
   "execution_count": 2,
   "metadata": {},
   "outputs": [],
   "source": [
    "import pandas as pd\n",
    "import numpy as np\n",
    "import seaborn as sns\n",
    "import os\n",
    "import loading_utils as load"
   ]
  },
  {
   "cell_type": "code",
   "execution_count": 3,
   "metadata": {},
   "outputs": [
    {
     "name": "stdout",
     "output_type": "stream",
     "text": [
      "Statistics of transition time in samples for participant 200\n",
      "max: 11, min: 0, mean: 7.874587458745874, stdev: 2.02560696476002\n",
      "Statistics of transition time in samples for participant 201\n",
      "max: 11, min: 0, mean: 7.886446886446887, stdev: 1.966272252136838\n",
      "Statistics of transition time in samples for participant 202\n",
      "max: 11, min: 0, mean: 7.917065390749602, stdev: 1.9766126197802663\n",
      "Statistics of transition time in samples for participant 205\n",
      "max: 11, min: 0, mean: 7.948811700182816, stdev: 1.8864312609755909\n",
      "Statistics of transition time in samples for participant 206\n",
      "max: 11, min: 0, mean: 7.9825174825174825, stdev: 1.8930426422821431\n",
      "Statistics of transition time in samples for participant 207\n",
      "max: 12, min: 0, mean: 7.951666666666667, stdev: 1.9431925334928144\n",
      "Statistics of transition time in samples for participant 209\n",
      "max: 11, min: 0, mean: 7.978297161936561, stdev: 1.874491745518053\n",
      "Statistics of transition time in samples for participant 210\n",
      "max: 11, min: 0, mean: 7.936206896551724, stdev: 1.9175413744456882\n",
      "Statistics of transition time in samples for participant 211\n",
      "max: 11, min: 0, mean: 7.830419580419581, stdev: 1.8682808275325467\n",
      "Statistics of transition time in samples for participant 212\n",
      "max: 11, min: 0, mean: 7.858638743455497, stdev: 1.9431491228088407\n",
      "Statistics of transition time in samples for participant 213\n",
      "max: 11, min: 0, mean: 7.954545454545454, stdev: 1.8953467964209385\n"
     ]
    }
   ],
   "source": [
    "data_dir = './results'\n",
    "\n",
    "for file in os.listdir(data_dir):\n",
    "    if file.endswith('full_data.csv'):\n",
    "        path_to_file = os.path.join(data_dir,file)\n",
    "        participant_df = pd.read_csv(path_to_file)\n",
    "        transition_times = []\n",
    "        for session in participant_df['Session id'].unique():\n",
    "            session_df = participant_df[participant_df['Session id']==session]\n",
    "            transition_times_per_sess = [len(session_df[(session_df['Sequence index']==i)&(session_df['Experiment state']=='Passive')]) for i in session_df['Sequence index'].unique()]\n",
    "            transition_times.append(transition_times_per_sess)\n",
    "            transition_times_per_sess = []\n",
    "        transition_times_flat=sum(transition_times,[])\n",
    "        max_time = np.max(transition_times_flat)\n",
    "        min_time = np.min(transition_times_flat)\n",
    "        mean_time = np.mean(transition_times_flat)\n",
    "        std_time=np.std(transition_times_flat)\n",
    "        participant_df=[]\n",
    "        print(f'Statistics of passive time in samples for participant {file[0:3]}')\n",
    "        print(f'max: {max_time}, min: {min_time}, mean: {mean_time}, stdev: {std_time}')"
   ]
  },
  {
   "cell_type": "markdown",
   "metadata": {},
   "source": [
    "There don't seem to be outliers in passive time when it comes to long transitions. For each participant, the times range from 0 to ~10 samples, which is about 0-0.4 s.  "
   ]
  },
  {
   "cell_type": "code",
   "execution_count": 16,
   "metadata": {},
   "outputs": [
    {
     "name": "stdout",
     "output_type": "stream",
     "text": [
      "Statistics of sequence length for participant 200\n",
      "Outlier in session: 20, sequence: 4, outlier time in samples: 2593, outlier time in seconds: 44.234\n",
      "Outlier in session: 23, sequence: 25, outlier time in samples: 3306, outlier time in seconds: 57.401\n",
      "max: 3306, min: 1001, mean: 1140.7582037996547, stdev: 113.53880704667438 samples\n",
      "max: 57.401, min: [19.421] or 19.267000000000003 , mean: 19.540231433506044, stdev: 1.8817672778699341 seconds \n",
      "\n",
      "Statistics of sequence length for participant 201\n",
      "max: 1176, min: 953, mean: 1131.8209523809523, stdev: 36.04761849405548 samples\n",
      "max: 19.468, min: [19.445] or 19.235999999999997 , mean: 19.432224761904763, stdev: 0.01965092888124353 seconds \n",
      "\n",
      "Statistics of sequence length for participant 202\n",
      "max: 1176, min: 1007, mean: 1142.325, stdev: 27.471367670115495 samples\n",
      "max: 19.467, min: [19.459] or 19.389 , mean: 19.433439999999997, stdev: 0.013328030612209675 seconds \n",
      "\n",
      "Statistics of sequence length for participant 205\n",
      "max: 1176, min: 1058, mean: 1148.3809523809523, stdev: 20.01712645396244 samples\n",
      "max: 19.464, min: [19.435] or 19.398 , mean: 19.433969523809523, stdev: 0.01267855424993239 seconds \n",
      "\n",
      "Statistics of sequence length for participant 206\n",
      "Outlier in session: 2, sequence: 25, outlier time in samples: 488, outlier time in seconds: 14.373999999999999\n",
      "Outlier in session: 3, sequence: 11, outlier time in samples: 484, outlier time in seconds: 13.746\n",
      "Outlier in session: 3, sequence: 12, outlier time in samples: 373, outlier time in seconds: 12.764000000000001\n",
      "Outlier in session: 3, sequence: 13, outlier time in samples: 432, outlier time in seconds: 13.241999999999999\n",
      "max: 1175, min: 373, mean: 1098.6963636363637, stdev: 161.14128353561085 samples\n",
      "max: 19.466, min: [12.764] or 12.764000000000001 , mean: 19.062336363636362, stdev: 1.3251040760310298 seconds \n",
      "\n",
      "Statistics of sequence length for participant 207\n",
      "Outlier in session: 17, sequence: 19, outlier time in samples: 7016, outlier time in seconds: 118.586\n",
      "max: 7016, min: 987, mean: 1155.7147826086957, stdev: 245.81908237509828 samples\n",
      "max: 118.586, min: [16.604] or 16.604 , mean: 19.60116347826087, stdev: 4.133249121481958 seconds \n",
      "\n",
      "Statistics of sequence length for participant 209\n",
      "max: 1177, min: 1070, mean: 1153.8678260869565, stdev: 18.52368424160803 samples\n",
      "max: 19.467000000000002, min: [19.426] or 19.372999999999998 , mean: 19.43250434782609, stdev: 0.013721562791615063 seconds \n",
      "\n",
      "Statistics of sequence length for participant 210\n",
      "Outlier in session: 8, sequence: 6, outlier time in samples: 6031, outlier time in seconds: 430.08299999999997\n",
      "max: 6031, min: 815, mean: 1147.341726618705, stdev: 213.3605768198607 samples\n",
      "max: 430.08299999999997, min: [16.504] or 16.504 , mean: 20.10960431654676, stdev: 17.4068197901496 seconds \n",
      "\n",
      "Statistics of sequence length for participant 211\n",
      "Outlier in session: 7, sequence: 25, outlier time in samples: 359, outlier time in seconds: 6.386\n",
      "max: 1177, min: 359, mean: 1139.1654545454546, stdev: 43.43412867647165 samples\n",
      "max: 19.468, min: [6.386] or 6.386 , mean: 19.39994181818182, stdev: 0.557671340385718 seconds \n",
      "\n",
      "Statistics of sequence length for participant 212\n",
      "max: 1176, min: 1036, mean: 1144.729090909091, stdev: 25.505743900165438 samples\n",
      "max: 19.467, min: [19.45] or 19.192999999999998 , mean: 19.432627272727274, stdev: 0.020898829497849016 seconds \n",
      "\n",
      "Statistics of sequence length for participant 213\n",
      "max: 1176, min: 1058, mean: 1146.9563636363637, stdev: 22.68852143615087 samples\n",
      "max: 19.471999999999998, min: [19.443] or 19.398 , mean: 19.435694545454545, stdev: 0.012473585446225743 seconds \n",
      "\n"
     ]
    }
   ],
   "source": [
    "data_dir = './results'\n",
    "\n",
    "for file in os.listdir(data_dir):\n",
    "    if file.endswith('full_data.csv'):\n",
    "        print(f'Statistics of sequence length for participant {file[0:3]}')\n",
    "        path_to_file = os.path.join(data_dir,file)\n",
    "        participant_df = pd.read_csv(path_to_file)\n",
    "        sequence_times = []\n",
    "        sequence_times_sec = []\n",
    "        for session in participant_df['Session id'].unique():\n",
    "            session_df = participant_df[participant_df['Session id']==session]\n",
    "            sequence_times_per_sess = [len(session_df[(session_df['Sequence index']==i)&(session_df['Experiment state']=='Active')]) for i in sorted(session_df['Sequence index'].unique())[1::]]\n",
    "            sequence_times_sec_per_sess = [np.max(session_df['Sequence time Sec'][(session_df['Sequence index']==i)&(session_df['Experiment state']=='Active')]) - np.min(session_df['Sequence time Sec'][(session_df['Sequence index']==i)&(session_df['Experiment state']=='Active')]) for i in sorted(session_df['Sequence index'].unique())[1::]]            \n",
    "            sequence_times.append(sequence_times_per_sess)\n",
    "            sequence_times_sec.append(sequence_times_sec_per_sess)\n",
    "            for i,sequence_time in enumerate(sequence_times_per_sess):\n",
    "                if sequence_time>1200 or sequence_time<500:\n",
    "                    print(f'Outlier in session: {session}, sequence: {i+1}, outlier time in samples: {sequence_time}, outlier time in seconds: {sequence_times_sec_per_sess[i]}')\n",
    "            sequence_times_per_sess = []\n",
    "        sequence_times_flat=sum(sequence_times,[])\n",
    "        sequence_times_sec_flat=sum(sequence_times_sec,[])\n",
    "        max_time = np.max(sequence_times_flat)\n",
    "        min_time = np.min(sequence_times_flat)\n",
    "        mean_time = np.mean(sequence_times_flat)\n",
    "        std_time=np.std(sequence_times_flat)\n",
    "        participant_df=[]\n",
    "        print(f'max: {max_time}, min: {min_time}, mean: {mean_time}, stdev: {std_time} samples')\n",
    "        print(f'max: {np.max(sequence_times_sec_flat)}, min: {np.array(sequence_times_sec_flat)[np.array(sequence_times_flat)==min_time]} or {np.min(sequence_times_sec_flat)} , mean: {np.mean(sequence_times_sec_flat)}, stdev: {np.std(sequence_times_sec_flat)} seconds \\n')"
   ]
  },
  {
   "cell_type": "markdown",
   "metadata": {},
   "source": [
    "Looking at sequence times (not including the adaptation sequence), it seems there are a few outliers present (defined as sequence duration>1200 samples or <500 samples). Possibly the extremely long ones are the sequences with long transition times, where however the experiment state is still marked as active. \n",
    "\n",
    "Looking at the times in seconds, it seems that also the sampling is not as stated in protocol data, where it was said to be 33 ms. Here we can see it's not uniform, e.g. for participant 210: 6031 samples is 430 seconds, which is a sampling frequency of 14 Hz, meanwhile 815 samples is 16.5 seconds, which is a sampling frequency of 50 Hz. I also checked if minimum(sequence duration in seconds) is equal to sequence duration in seconds corresponding to minimum duration in samples (value in brackets vs value without). They are not equal, further confirming that sampling is not uniform. This can cause issues in filtering the signal and will need to be kept in mind for preprocessing."
   ]
  },
  {
   "cell_type": "code",
   "execution_count": null,
   "metadata": {},
   "outputs": [],
   "source": []
  }
 ],
 "metadata": {
  "kernelspec": {
   "display_name": "civibe",
   "language": "python",
   "name": "python3"
  },
  "language_info": {
   "codemirror_mode": {
    "name": "ipython",
    "version": 3
   },
   "file_extension": ".py",
   "mimetype": "text/x-python",
   "name": "python",
   "nbconvert_exporter": "python",
   "pygments_lexer": "ipython3",
   "version": "3.8.1"
  }
 },
 "nbformat": 4,
 "nbformat_minor": 2
}
