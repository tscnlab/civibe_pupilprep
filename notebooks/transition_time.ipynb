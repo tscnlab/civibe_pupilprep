{
 "cells": [
  {
   "cell_type": "code",
   "execution_count": 1,
   "metadata": {},
   "outputs": [],
   "source": [
    "import sys\n",
    "sys.path.insert(1, '..\\\\utilities\\\\') #adds utilities folder to path so we can import modules from it, won't be needed after packaging"
   ]
  },
  {
   "cell_type": "code",
   "execution_count": 2,
   "metadata": {},
   "outputs": [],
   "source": [
    "import pandas as pd\n",
    "import numpy as np\n",
    "import seaborn as sns\n",
    "import os\n",
    "import loading_utils as load"
   ]
  },
  {
   "cell_type": "code",
   "execution_count": 3,
   "metadata": {},
   "outputs": [
    {
     "name": "stdout",
     "output_type": "stream",
     "text": [
      "Statistics of transition time in samples for participant 200\n",
      "max: 11, min: 0, mean: 7.874587458745874, stdev: 2.02560696476002\n",
      "Statistics of transition time in samples for participant 201\n",
      "max: 11, min: 0, mean: 7.886446886446887, stdev: 1.966272252136838\n",
      "Statistics of transition time in samples for participant 202\n",
      "max: 11, min: 0, mean: 7.917065390749602, stdev: 1.9766126197802663\n",
      "Statistics of transition time in samples for participant 205\n",
      "max: 11, min: 0, mean: 7.948811700182816, stdev: 1.8864312609755909\n",
      "Statistics of transition time in samples for participant 206\n",
      "max: 11, min: 0, mean: 7.9825174825174825, stdev: 1.8930426422821431\n",
      "Statistics of transition time in samples for participant 207\n",
      "max: 12, min: 0, mean: 7.951666666666667, stdev: 1.9431925334928144\n",
      "Statistics of transition time in samples for participant 209\n",
      "max: 11, min: 0, mean: 7.978297161936561, stdev: 1.874491745518053\n",
      "Statistics of transition time in samples for participant 210\n",
      "max: 11, min: 0, mean: 7.936206896551724, stdev: 1.9175413744456882\n",
      "Statistics of transition time in samples for participant 211\n",
      "max: 11, min: 0, mean: 7.830419580419581, stdev: 1.8682808275325467\n",
      "Statistics of transition time in samples for participant 212\n",
      "max: 11, min: 0, mean: 7.858638743455497, stdev: 1.9431491228088407\n",
      "Statistics of transition time in samples for participant 213\n",
      "max: 11, min: 0, mean: 7.954545454545454, stdev: 1.8953467964209385\n"
     ]
    }
   ],
   "source": [
    "data_dir = './results'\n",
    "\n",
    "for file in os.listdir(data_dir):\n",
    "    if file.endswith('full_data.csv'):\n",
    "        path_to_file = os.path.join(data_dir,file)\n",
    "        participant_df = pd.read_csv(path_to_file)\n",
    "        transition_times = []\n",
    "        for session in participant_df['Session id'].unique():\n",
    "            session_df = participant_df[participant_df['Session id']==session]\n",
    "            transition_times_per_sess = [len(session_df[(session_df['Sequence index']==i)&(session_df['Experiment state']=='Passive')]) for i in session_df['Sequence index'].unique()]\n",
    "            transition_times.append(transition_times_per_sess)\n",
    "            transition_times_per_sess = []\n",
    "        transition_times_flat=sum(transition_times,[])\n",
    "        max_time = np.max(transition_times_flat)\n",
    "        min_time = np.min(transition_times_flat)\n",
    "        mean_time = np.mean(transition_times_flat)\n",
    "        std_time=np.std(transition_times_flat)\n",
    "        participant_df=[]\n",
    "        print(f'Statistics of transition time in samples for participant {file[0:3]}')\n",
    "        print(f'max: {max_time}, min: {min_time}, mean: {mean_time}, stdev: {std_time}')"
   ]
  },
  {
   "cell_type": "markdown",
   "metadata": {},
   "source": [
    "There don't seem to be outliers in transition time when it comes to long transitions. For each participant, the times range from 0 to ~10 samples, which is about 0-0.4 s.  "
   ]
  },
  {
   "cell_type": "code",
   "execution_count": null,
   "metadata": {},
   "outputs": [],
   "source": []
  }
 ],
 "metadata": {
  "kernelspec": {
   "display_name": "civibe",
   "language": "python",
   "name": "python3"
  },
  "language_info": {
   "codemirror_mode": {
    "name": "ipython",
    "version": 3
   },
   "file_extension": ".py",
   "mimetype": "text/x-python",
   "name": "python",
   "nbconvert_exporter": "python",
   "pygments_lexer": "ipython3",
   "version": "3.8.1"
  }
 },
 "nbformat": 4,
 "nbformat_minor": 2
}
